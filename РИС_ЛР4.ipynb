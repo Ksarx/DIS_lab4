{
  "nbformat": 4,
  "nbformat_minor": 0,
  "metadata": {
    "colab": {
      "provenance": []
    },
    "kernelspec": {
      "name": "python3",
      "display_name": "Python 3"
    },
    "language_info": {
      "name": "python"
    }
  },
  "cells": [
    {
      "cell_type": "markdown",
      "source": [
        "# Лабораторная работа №4 Обработка исключений"
      ],
      "metadata": {
        "id": "IguE-ZqgBRDs"
      }
    },
    {
      "cell_type": "markdown",
      "source": [
        "**Цель:**\n",
        "\n",
        "Научиться разделить места отлова исключений и момент выбора сообщения об\n",
        "ошибке.\n",
        "\n",
        "**Смысл:**\n",
        "\n",
        "Часто в приложениях выдаются неиформативные сообщения об ошибках из-за того,\n",
        "что невозможно на этапе разработке предугадать. что явялется причиной\n",
        "возникновения соотвествующего исключения.\n",
        "\n",
        "**Задача.**\n",
        "\n",
        "В приложении было выброшено исключение. У нас есть место вызова исключения, тип\n",
        "исключения и возможно стек вызовов. Необходимо на основе этих входных данных\n",
        "выдать наиболее точное сообщение о причине ошибки.\n",
        "Указание. Использовать дерево решений. На одном уровне дерева будет строка\n",
        "программы и файл, которые породили исключение, на следующем - тип исключения,\n",
        "на еще одном - дополнительном - хэш код от стека исключений.\n",
        "Предусмотреть возможность, чтобы сообщение об ошибке могло быть только одно\n",
        "для конкретного типа исключения и не зависиело от места выброса, сообщение не\n",
        "зависит от стека обработки."
      ],
      "metadata": {
        "id": "2oxWOlFaBPtu"
      }
    },
    {
      "cell_type": "code",
      "source": [
        "import sys\n",
        "import traceback"
      ],
      "metadata": {
        "id": "qSj7Z6kH_V5D"
      },
      "execution_count": 1,
      "outputs": []
    },
    {
      "cell_type": "code",
      "source": [
        "EXCEPTIONS_DICTIONARY = {\n",
        "    FileNotFoundError: \"Данный файл не найден\",\n",
        "    ValueError: \"Некорректное значение\",\n",
        "    NameError: \"Переменная не была определена\",\n",
        "    TypeError: \"Недопустимая операция с типами данных\",\n",
        "    IndexError: \"Обращение к элементу списка, которого не существует\",\n",
        "    KeyError: \"Обращение к элементу словаря по несуществующему ключу\",\n",
        "    SyntaxError: \"Синтаксическая ошибка\",\n",
        "    ZeroDivisionError: \"Деление на ноль\",\n",
        "    AttributeError: \"Некорректный атрибут\",\n",
        "    StopIteration: \"Итератор закончил итерацию\",\n",
        "}"
      ],
      "metadata": {
        "id": "7HKQJu3l_nX4"
      },
      "execution_count": 4,
      "outputs": []
    },
    {
      "cell_type": "code",
      "source": [
        "class TemplateException(Exception):\n",
        "    def __init__(self, exc_type, exc_value, traceback_hash, message, traceback_message):\n",
        "        self.message_template = \"Произошла ошибка типа {0}, со значением {1} и с хэшом стека {2}\\n{3}\\nТекст исключения:\\n{4}\"\n",
        "        self.exc_type = exc_type\n",
        "        self.exc_value = exc_value\n",
        "        self.traceback_hash = traceback_hash\n",
        "        self.message = message\n",
        "        self.traceback_message = traceback_message\n",
        "\n",
        "    def __str__(self):\n",
        "        return self.message_template.format(self.exc_type, self.exc_value, self.traceback_hash, self.message, self.traceback_message)\n"
      ],
      "metadata": {
        "id": "54ExBWl1_psC"
      },
      "execution_count": 5,
      "outputs": []
    },
    {
      "cell_type": "code",
      "source": [
        "class ExceptionInfo:\n",
        "    def __init__(self, exc_type, exc_value, exc_traceback):\n",
        "        self.message = None\n",
        "        self.exc_type = exc_type\n",
        "        self.exc_value = exc_value\n",
        "        self.exc_traceback = exc_traceback\n",
        "        self.traceback_message = ''.join(traceback.format_tb(exc_traceback))\n",
        "        self.traceback_hash = hash(self.traceback_message)\n",
        "\n",
        "    def handle_exception(self):\n",
        "        if self.exc_type in EXCEPTIONS_DICTIONARY:\n",
        "            self.message = EXCEPTIONS_DICTIONARY[self.exc_type]\n",
        "        else:\n",
        "            self.message = \"Неизвестная ошибка\"\n",
        "        return TemplateException(self.exc_type, self.exc_value, self.traceback_hash, self.message, self.traceback_message)"
      ],
      "metadata": {
        "id": "miuKX6gwFu4d"
      },
      "execution_count": 6,
      "outputs": []
    },
    {
      "cell_type": "code",
      "source": [
        "try:\n",
        "    abababobi\n",
        "except Exception as ex:\n",
        "    exc_type, exc_value, exc_traceback = sys.exc_info()\n",
        "    exc_info = ExceptionInfo(exc_type, exc_value, exc_traceback)\n",
        "    print(exc_info.handle_exception())\n"
      ],
      "metadata": {
        "colab": {
          "base_uri": "https://localhost:8080/"
        },
        "id": "P0O8gCw5_rqH",
        "outputId": "2fe78756-1a9a-4fac-c196-8ad97d405215"
      },
      "execution_count": 7,
      "outputs": [
        {
          "output_type": "stream",
          "name": "stdout",
          "text": [
            "Произошла ошибка типа <class 'NameError'>, со значением name 'abababobi' is not defined и с хэшом стека -5909929401394642949\n",
            "Переменная не была определена\n",
            "Текст исключения:\n",
            "  File \"<ipython-input-7-7535406f303f>\", line 2, in <module>\n",
            "    abababobi\n",
            "\n"
          ]
        }
      ]
    },
    {
      "cell_type": "code",
      "source": [
        "try:\n",
        "    5 / 0\n",
        "except Exception as ex:\n",
        "    exc_type, exc_value, exc_traceback = sys.exc_info()\n",
        "    exc_info = ExceptionInfo(exc_type, exc_value, exc_traceback)\n",
        "    print(exc_info.handle_exception())\n"
      ],
      "metadata": {
        "colab": {
          "base_uri": "https://localhost:8080/"
        },
        "id": "3mcf_RRSAm9q",
        "outputId": "049da517-1b2d-4365-b0e5-55db0a93bbca"
      },
      "execution_count": 8,
      "outputs": [
        {
          "output_type": "stream",
          "name": "stdout",
          "text": [
            "Произошла ошибка типа <class 'ZeroDivisionError'>, со значением division by zero и с хэшом стека -3689836794626580023\n",
            "Деление на ноль\n",
            "Текст исключения:\n",
            "  File \"<ipython-input-8-d0ad4a20bf3d>\", line 2, in <module>\n",
            "    5 / 0\n",
            "\n"
          ]
        }
      ]
    },
    {
      "cell_type": "code",
      "source": [
        "try:\n",
        "    a = [3, 5]\n",
        "    a[5]\n",
        "except Exception as ex:\n",
        "    exc_type, exc_value, exc_traceback = sys.exc_info()\n",
        "    exc_info = ExceptionInfo(exc_type, exc_value, exc_traceback)\n",
        "    print(exc_info.handle_exception())\n"
      ],
      "metadata": {
        "colab": {
          "base_uri": "https://localhost:8080/"
        },
        "id": "bekYZPSYAqSy",
        "outputId": "39115cfb-4782-4475-aff7-ed718033dccf"
      },
      "execution_count": 9,
      "outputs": [
        {
          "output_type": "stream",
          "name": "stdout",
          "text": [
            "Произошла ошибка типа <class 'IndexError'>, со значением list index out of range и с хэшом стека 3491469106544567862\n",
            "Обращение к элементу списка, которого не существует\n",
            "Текст исключения:\n",
            "  File \"<ipython-input-9-0ff4791d62a4>\", line 3, in <module>\n",
            "    a[5]\n",
            "\n"
          ]
        }
      ]
    }
  ]
}